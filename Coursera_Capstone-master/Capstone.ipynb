{
 "cells": [
  {
   "cell_type": "markdown",
   "metadata": {},
   "source": [
    "## Capstone - Project"
   ]
  },
  {
   "cell_type": "markdown",
   "metadata": {},
   "source": [
    "#### This Notebook will be used for Applied Data Science - Capstone Project"
   ]
  },
  {
   "cell_type": "markdown",
   "metadata": {},
   "source": [
    "**Description of the problem** : Check how location of restraunts and other places are similar or dissimilar in New York and Toronto.\n",
    "This will tell us about the comparitive demographic patterns. Then we can pivot this problem to focus on each patterns observed in details. We have the data about demographic information of each city. We have data about the places like - Restaurants, college, Neighboor hood , shopping places etc. We will use this data to visualize the patterns and make a predictive model for users who are planning to move in this are and users who are planning to open business like restraunt in this area."
   ]
  },
  {
   "cell_type": "markdown",
   "metadata": {},
   "source": [
    "**Description of the data and how it will be used to solve the problem** : I am going to calculate distance between different places like college and bar. I am also going to count how many shopping places are in each cluster or Borough. The distance that I'll will caculate using lat and longitutdes will help new businessmans to find best location for their business. The number of shopping places and schools in an area will tell me about its populaty , so new user who have kids will want to move near to the school area. To check the similarities and disimilarities I'll also try to incorporate economic data, to see how all these places running in each cities are generating revenues or not "
   ]
  },
  {
   "cell_type": "code",
   "execution_count": null,
   "metadata": {},
   "outputs": [],
   "source": []
  },
  {
   "cell_type": "code",
   "execution_count": null,
   "metadata": {},
   "outputs": [],
   "source": []
  },
  {
   "cell_type": "code",
   "execution_count": 1,
   "metadata": {},
   "outputs": [],
   "source": [
    "# Library Imports\n",
    "import pandas as pd\n",
    "import numpy as np"
   ]
  },
  {
   "cell_type": "code",
   "execution_count": 2,
   "metadata": {},
   "outputs": [
    {
     "name": "stdout",
     "output_type": "stream",
     "text": [
      "Hello Capstone Project Course! \n"
     ]
    }
   ],
   "source": [
    "# Print Statement\n",
    "print(\"Hello Capstone Project Course! \")"
   ]
  },
  {
   "cell_type": "code",
   "execution_count": null,
   "metadata": {},
   "outputs": [],
   "source": []
  }
 ],
 "metadata": {
  "kernelspec": {
   "display_name": "Python 3",
   "language": "python",
   "name": "python3"
  },
  "language_info": {
   "codemirror_mode": {
    "name": "ipython",
    "version": 3
   },
   "file_extension": ".py",
   "mimetype": "text/x-python",
   "name": "python",
   "nbconvert_exporter": "python",
   "pygments_lexer": "ipython3",
   "version": "3.6.8"
  }
 },
 "nbformat": 4,
 "nbformat_minor": 2
}
