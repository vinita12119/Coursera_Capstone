{
 "cells": [
  {
   "cell_type": "markdown",
   "metadata": {},
   "source": [
    "## Toronto Neighbourhood"
   ]
  },
  {
   "cell_type": "markdown",
   "metadata": {},
   "source": [
    "#### Import Libraries"
   ]
  },
  {
   "cell_type": "code",
   "execution_count": 3,
   "metadata": {},
   "outputs": [
    {
     "name": "stdout",
     "output_type": "stream",
     "text": [
      "Collecting package metadata: done\n",
      "Solving environment: - \n",
      "The environment is inconsistent, please check the package plan carefully\n",
      "The following packages are causing the inconsistency:\n",
      "\n",
      "  - defaults/osx-64::jupyter_console==6.0.0=py36_0\n",
      "  - defaults/osx-64::spyder-kernels==0.3.0=py36_0\n",
      "  - defaults/osx-64::jupyterlab_server==0.2.0=py36_0\n",
      "  - defaults/osx-64::wheel==0.32.3=py36_0\n",
      "  - defaults/osx-64::descartes==1.1.0=py36_0\n",
      "  - defaults/osx-64::flask==1.0.2=py36_1\n",
      "  - defaults/osx-64::networkx==2.2=py36_1\n",
      "  - conda-forge/label/cf201901/osx-64::tensorflow==1.10.0=py36_0\n",
      "  - defaults/osx-64::sphinx==1.8.2=py36_0\n",
      "  - defaults/osx-64::pytest-remotedata==0.3.1=py36_0\n",
      "  - defaults/osx-64::widgetsnbextension==3.4.2=py36_0\n",
      "  - defaults/osx-64::pytest-openfiles==0.3.2=py36_0\n",
      "  - defaults/osx-64::seaborn==0.9.0=py36_0\n",
      "  - defaults/osx-64::jinja2==2.10=py36_0\n",
      "  - defaults/osx-64::ipython==7.2.0=py36h39e3cac_0\n",
      "  - defaults/osx-64::pytest-astropy==0.3.0=py36_0\n",
      "  - defaults/osx-64::grpcio==1.16.1=py36h044775b_1\n",
      "  - defaults/osx-64::astropy==3.0.2=py36h917ab60_1\n",
      "  - conda-forge/label/cf201901/osx-64::protobuf==3.6.1=py36hfc679d8_1\n",
      "  - defaults/osx-64::pytest-doctestplus==0.1.3=py36_0\n",
      "  - defaults/osx-64::numba==0.38.0=py36h1702cab_0\n",
      "  - defaults/osx-64::_ipyw_jlab_nb_ext_conf==0.1.0=py36_0\n",
      "  - defaults/osx-64::anaconda-client==1.7.2=py36_0\n",
      "  - defaults/osx-64::flask-cors==3.0.7=py36_0\n",
      "  - defaults/osx-64::xlwings==0.15.1=py36_0\n",
      "  - defaults/osx-64::numpydoc==0.8.0=py36_0\n",
      "  - defaults/osx-64::scikit-image==0.13.1=py36h1de35cc_1\n",
      "  - defaults/osx-64::blaze==0.11.3=py36h02e7a37_0\n",
      "  - defaults/osx-64::bokeh==0.12.16=py36_0\n",
      "  - defaults/osx-64::dask==0.17.5=py36_0\n",
      "  - defaults/osx-64::jupyter==1.0.0=py36_7\n",
      "  - conda-forge/label/cf201901/osx-64::tensorboard==1.10.0=py36_0\n",
      "  - defaults/osx-64::ipywidgets==7.4.2=py36_0\n",
      "  - defaults/osx-64::nbconvert==5.4.0=py36_1\n",
      "  - defaults/osx-64::odo==0.5.1=py36hc1af34a_0\n",
      "  - defaults/osx-64::pyproj==1.9.5.1=py36_0\n",
      "  - defaults/osx-64::jupyterlab==0.35.3=py36_0\n",
      "  - defaults/osx-64::scikit-learn==0.20.0=py36h4f467ca_1\n",
      "  - defaults/osx-64::isort==4.3.4=py36_0\n",
      "  - defaults/osx-64::jupyterlab_launcher==0.13.1=py36_0\n",
      "  - defaults/osx-64::conda-verify==3.1.1=py36_0\n",
      "  - defaults/osx-64::numexpr==2.6.5=py36h057f876_0\n",
      "  - defaults/osx-64::qtconsole==4.4.3=py36_0\n",
      "  - defaults/osx-64::conda-build==3.17.8=py36_0\n",
      "  - defaults/osx-64::clyent==1.2.2=py36_1\n",
      "  - defaults/osx-64::pytables==3.4.3=py36h5ca999c_2\n",
      "  - defaults/osx-64::fiona==1.7.10=py36h6a33aa8_0\n",
      "  - defaults/osx-64::anaconda-navigator==1.9.6=py36_0\n",
      "  - defaults/osx-64::cython==0.29.2=py36h0a44026_0\n",
      "  - defaults/osx-64::prompt_toolkit==2.0.7=py36_0\n",
      "  - defaults/osx-64::nose==1.3.7=py36_2\n",
      "  - defaults/noarch::geopandas==0.4.1=py_0\n",
      "  - defaults/osx-64::mkl-service==1.1.2=py36h7ea6df4_4\n",
      "  - defaults/osx-64::pytest-arraydiff==0.2=py36_0\n",
      "  - defaults/osx-64::pylint==2.2.2=py36_0\n",
      "  - defaults/osx-64::scrapy==1.5.2=py36_0\n",
      "  - defaults/osx-64::parsel==1.5.1=py36_0\n",
      "  - defaults/osx-64::nbformat==4.4.0=py36h827af21_0\n",
      "  - defaults/osx-64::anaconda-project==0.8.2=py36_0\n",
      "  - defaults/osx-64::pygments==2.3.1=py36_0\n",
      "  - defaults/noarch::pytest-runner==4.4=py_0\n",
      "  - defaults/osx-64::jsonschema==2.6.0=py36hb385e00_0\n",
      "  - defaults/osx-64::anaconda==custom=py36ha4fed55_0\n",
      "  - defaults/osx-64::notebook==5.7.4=py36_0\n",
      "  - defaults/osx-64::ipykernel==5.1.0=py36h39e3cac_0\n",
      "  - defaults/osx-64::spyder==3.3.2=py36_0\n",
      "  - defaults/osx-64::matplotlib==3.0.2=py36h54f8f79_0\n",
      "  - defaults/osx-64::pytest==4.1.1=py36_0\n",
      "done\n",
      "\n",
      "## Package Plan ##\n",
      "\n",
      "  environment location: /Users/vinitachaudhary/anaconda3\n",
      "\n",
      "  added / updated specs:\n",
      "    - geopy\n",
      "\n",
      "\n",
      "The following packages will be downloaded:\n",
      "\n",
      "    package                    |            build\n",
      "    ---------------------------|-----------------\n",
      "    ca-certificates-2019.6.16  |       hecc5488_0         145 KB  conda-forge\n",
      "    certifi-2019.6.16          |           py36_1         149 KB  conda-forge\n",
      "    conda-4.7.11               |           py36_0         3.0 MB  conda-forge\n",
      "    conda-package-handling-1.4.1|           py36_0         261 KB  conda-forge\n",
      "    geopy-1.20.0               |             py_0          57 KB  conda-forge\n",
      "    openssl-1.1.1c             |       h01d97ff_0         1.9 MB  conda-forge\n",
      "    ------------------------------------------------------------\n",
      "                                           Total:         5.4 MB\n",
      "\n",
      "The following NEW packages will be INSTALLED:\n",
      "\n",
      "  conda-package-han~ conda-forge/osx-64::conda-package-handling-1.4.1-py36_0\n",
      "\n",
      "The following packages will be UPDATED:\n",
      "\n",
      "  ca-certificates     anaconda::ca-certificates-2019.1.23-0 --> conda-forge::ca-certificates-2019.6.16-hecc5488_0\n",
      "  certifi                 anaconda::certifi-2019.3.9-py36_0 --> conda-forge::certifi-2019.6.16-py36_1\n",
      "  conda                       anaconda::conda-4.6.14-py36_0 --> conda-forge::conda-4.7.11-py36_0\n",
      "  geopy                                         1.18.1-py_0 --> 1.20.0-py_0\n",
      "\n",
      "The following packages will be SUPERSEDED by a higher-priority channel:\n",
      "\n",
      "  openssl                anaconda::openssl-1.1.1-h1de35cc_0 --> conda-forge::openssl-1.1.1c-h01d97ff_0\n",
      "\n",
      "\n",
      "\n",
      "Downloading and Extracting Packages\n",
      "certifi-2019.6.16    | 149 KB    | ##################################### | 100% \n",
      "conda-4.7.11         | 3.0 MB    | ##################################### | 100% \n",
      "conda-package-handli | 261 KB    | ##################################### | 100% \n",
      "openssl-1.1.1c       | 1.9 MB    | ##################################### | 100% \n",
      "geopy-1.20.0         | 57 KB     | ##################################### | 100% \n",
      "ca-certificates-2019 | 145 KB    | ##################################### | 100% \n",
      "Preparing transaction: done\n",
      "Verifying transaction: failed\n",
      "\n",
      "RemoveError: 'setuptools' is a dependency of conda and cannot be removed from\n",
      "conda's operating environment.\n",
      "\n",
      "Libraries imported.\n"
     ]
    }
   ],
   "source": [
    "import numpy as np # library to handle data in a vectorized manner\n",
    "\n",
    "import pandas as pd # library for data analsysis\n",
    "pd.set_option('display.max_columns', None)\n",
    "pd.set_option('display.max_rows', None)\n",
    "\n",
    "import json # library to handle JSON files\n",
    "\n",
    "!conda install -c conda-forge geopy --yes # uncomment this line if you haven't completed the Foursquare API lab\n",
    "from geopy.geocoders import Nominatim # convert an address into latitude and longitude values\n",
    "\n",
    "import requests # library to handle requests\n",
    "from pandas.io.json import json_normalize # tranform JSON file into a pandas dataframe\n",
    "\n",
    "# Matplotlib and associated plotting modules\n",
    "import matplotlib.cm as cm\n",
    "import matplotlib.colors as colors\n",
    "\n",
    "# import k-means from clustering stage\n",
    "from sklearn.cluster import KMeans\n",
    "\n",
    "#!conda install -c conda-forge folium=0.5.0 --yes # uncomment this line if you haven't completed the Foursquare API lab\n",
    "import folium # map rendering library\n",
    "\n",
    "print('Libraries imported.')"
   ]
  },
  {
   "cell_type": "markdown",
   "metadata": {},
   "source": [
    "### URL read the table in DataFrame"
   ]
  },
  {
   "cell_type": "code",
   "execution_count": 54,
   "metadata": {},
   "outputs": [
    {
     "data": {
      "text/html": [
       "<div>\n",
       "<style scoped>\n",
       "    .dataframe tbody tr th:only-of-type {\n",
       "        vertical-align: middle;\n",
       "    }\n",
       "\n",
       "    .dataframe tbody tr th {\n",
       "        vertical-align: top;\n",
       "    }\n",
       "\n",
       "    .dataframe thead th {\n",
       "        text-align: right;\n",
       "    }\n",
       "</style>\n",
       "<table border=\"1\" class=\"dataframe\">\n",
       "  <thead>\n",
       "    <tr style=\"text-align: right;\">\n",
       "      <th></th>\n",
       "      <th>Postcode</th>\n",
       "      <th>Borough</th>\n",
       "      <th>Neighbourhood</th>\n",
       "    </tr>\n",
       "  </thead>\n",
       "  <tbody>\n",
       "    <tr>\n",
       "      <th>0</th>\n",
       "      <td>M1A</td>\n",
       "      <td>Not assigned</td>\n",
       "      <td>Not assigned</td>\n",
       "    </tr>\n",
       "    <tr>\n",
       "      <th>1</th>\n",
       "      <td>M2A</td>\n",
       "      <td>Not assigned</td>\n",
       "      <td>Not assigned</td>\n",
       "    </tr>\n",
       "  </tbody>\n",
       "</table>\n",
       "</div>"
      ],
      "text/plain": [
       "  Postcode       Borough Neighbourhood\n",
       "0      M1A  Not assigned  Not assigned\n",
       "1      M2A  Not assigned  Not assigned"
      ]
     },
     "execution_count": 54,
     "metadata": {},
     "output_type": "execute_result"
    }
   ],
   "source": [
    "url = 'https://en.wikipedia.org/wiki/List_of_postal_codes_of_Canada:_M'\n",
    "df = pd.read_html(url, index_col=0)[0]\n",
    "df.reset_index(inplace=True)\n",
    "df.head(2)"
   ]
  },
  {
   "cell_type": "markdown",
   "metadata": {},
   "source": [
    "### Clean the data frame"
   ]
  },
  {
   "cell_type": "markdown",
   "metadata": {},
   "source": [
    "#### Removing the Not Assigned Borough\n",
    "Drop the rows with Not Assigned Borough"
   ]
  },
  {
   "cell_type": "code",
   "execution_count": 15,
   "metadata": {},
   "outputs": [],
   "source": [
    "# Clean the unassigned Borough\n",
    "cleandf = df[df['Borough'] != 'Not assigned'].reset_index(drop=True)"
   ]
  },
  {
   "cell_type": "markdown",
   "metadata": {},
   "source": [
    "#### Concatenate the Neighbourhood with same Post code\n",
    "Check if the join occured correctly or not"
   ]
  },
  {
   "cell_type": "code",
   "execution_count": 29,
   "metadata": {},
   "outputs": [],
   "source": [
    "combdf = cleandf.groupby(['Postcode','Borough'])['Neighbourhood'].apply(','.join).reset_index()"
   ]
  },
  {
   "cell_type": "markdown",
   "metadata": {},
   "source": [
    "Check if the join occured correctly or not .\n",
    "Orgininal data with 2 different Neighbourhood with same Postcode"
   ]
  },
  {
   "cell_type": "code",
   "execution_count": 56,
   "metadata": {},
   "outputs": [
    {
     "data": {
      "text/html": [
       "<div>\n",
       "<style scoped>\n",
       "    .dataframe tbody tr th:only-of-type {\n",
       "        vertical-align: middle;\n",
       "    }\n",
       "\n",
       "    .dataframe tbody tr th {\n",
       "        vertical-align: top;\n",
       "    }\n",
       "\n",
       "    .dataframe thead th {\n",
       "        text-align: right;\n",
       "    }\n",
       "</style>\n",
       "<table border=\"1\" class=\"dataframe\">\n",
       "  <thead>\n",
       "    <tr style=\"text-align: right;\">\n",
       "      <th></th>\n",
       "      <th>Postcode</th>\n",
       "      <th>Borough</th>\n",
       "      <th>Neighbourhood</th>\n",
       "    </tr>\n",
       "  </thead>\n",
       "  <tbody>\n",
       "    <tr>\n",
       "      <th>2</th>\n",
       "      <td>M5A</td>\n",
       "      <td>Downtown Toronto</td>\n",
       "      <td>Harbourfront</td>\n",
       "    </tr>\n",
       "    <tr>\n",
       "      <th>3</th>\n",
       "      <td>M5A</td>\n",
       "      <td>Downtown Toronto</td>\n",
       "      <td>Regent Park</td>\n",
       "    </tr>\n",
       "  </tbody>\n",
       "</table>\n",
       "</div>"
      ],
      "text/plain": [
       "  Postcode           Borough Neighbourhood\n",
       "2      M5A  Downtown Toronto  Harbourfront\n",
       "3      M5A  Downtown Toronto   Regent Park"
      ]
     },
     "execution_count": 56,
     "metadata": {},
     "output_type": "execute_result"
    }
   ],
   "source": [
    "cleandf[cleandf['Postcode'] =='M5A']"
   ]
  },
  {
   "cell_type": "code",
   "execution_count": 57,
   "metadata": {},
   "outputs": [
    {
     "data": {
      "text/html": [
       "<div>\n",
       "<style scoped>\n",
       "    .dataframe tbody tr th:only-of-type {\n",
       "        vertical-align: middle;\n",
       "    }\n",
       "\n",
       "    .dataframe tbody tr th {\n",
       "        vertical-align: top;\n",
       "    }\n",
       "\n",
       "    .dataframe thead th {\n",
       "        text-align: right;\n",
       "    }\n",
       "</style>\n",
       "<table border=\"1\" class=\"dataframe\">\n",
       "  <thead>\n",
       "    <tr style=\"text-align: right;\">\n",
       "      <th></th>\n",
       "      <th>Postcode</th>\n",
       "      <th>Borough</th>\n",
       "      <th>Neighbourhood</th>\n",
       "    </tr>\n",
       "  </thead>\n",
       "  <tbody>\n",
       "    <tr>\n",
       "      <th>53</th>\n",
       "      <td>M5A</td>\n",
       "      <td>Downtown Toronto</td>\n",
       "      <td>Harbourfront,Regent Park</td>\n",
       "    </tr>\n",
       "  </tbody>\n",
       "</table>\n",
       "</div>"
      ],
      "text/plain": [
       "   Postcode           Borough             Neighbourhood\n",
       "53      M5A  Downtown Toronto  Harbourfront,Regent Park"
      ]
     },
     "execution_count": 57,
     "metadata": {},
     "output_type": "execute_result"
    }
   ],
   "source": [
    "# corrected DataFrame\n",
    "combdf[combdf['Postcode'] =='M5A']"
   ]
  },
  {
   "cell_type": "markdown",
   "metadata": {},
   "source": [
    "#### Not Assigned Neighbourhood will have same value as their Borough"
   ]
  },
  {
   "cell_type": "code",
   "execution_count": 38,
   "metadata": {},
   "outputs": [],
   "source": [
    "# Not assigned Neighbourhood\n",
    "combdf.loc[combdf.Neighbourhood == 'Not assigned','Neighbourhood'] = combdf['Borough']"
   ]
  },
  {
   "cell_type": "code",
   "execution_count": 52,
   "metadata": {},
   "outputs": [
    {
     "name": "stdout",
     "output_type": "stream",
     "text": [
      "Orginal Data with Not assigned Neighbourhood:\n",
      " \n",
      "  Postcode       Borough Neighbourhood\n",
      "6      M7A  Queen's Park  Not assigned\n",
      "\n",
      "New Data with Not assigned Neighbourhood:\n",
      " \n",
      "   Postcode       Borough Neighbourhood\n",
      "85      M7A  Queen's Park  Queen's Park\n",
      "\n",
      "Check Not assigned Neighbourhood:\n",
      " \n",
      "Empty DataFrame\n",
      "Columns: [Postcode, Borough, Neighbourhood]\n",
      "Index: []\n"
     ]
    }
   ],
   "source": [
    "#Check the not assigned Neighbourhood\n",
    "print(\"Orginal Data with Not assigned Neighbourhood:\\n \")\n",
    "print(cleandf[cleandf['Neighbourhood'] =='Not assigned'])\n",
    "print(\"\\nNew Data with Not assigned Neighbourhood:\\n \")\n",
    "print(combdf[combdf['Postcode'] =='M7A'])\n",
    "print(\"\\nCheck Not assigned Neighbourhood:\\n \")\n",
    "print(combdf[combdf['Neighbourhood'] =='Not assigned'])"
   ]
  },
  {
   "cell_type": "markdown",
   "metadata": {},
   "source": [
    "#### Check the shape of final DataFrame"
   ]
  },
  {
   "cell_type": "code",
   "execution_count": 58,
   "metadata": {},
   "outputs": [
    {
     "data": {
      "text/plain": [
       "(103, 3)"
      ]
     },
     "execution_count": 58,
     "metadata": {},
     "output_type": "execute_result"
    }
   ],
   "source": [
    "combdf.shape"
   ]
  },
  {
   "cell_type": "code",
   "execution_count": null,
   "metadata": {},
   "outputs": [],
   "source": []
  }
 ],
 "metadata": {
  "kernelspec": {
   "display_name": "Python 3",
   "language": "python",
   "name": "python3"
  },
  "language_info": {
   "codemirror_mode": {
    "name": "ipython",
    "version": 3
   },
   "file_extension": ".py",
   "mimetype": "text/x-python",
   "name": "python",
   "nbconvert_exporter": "python",
   "pygments_lexer": "ipython3",
   "version": "3.6.8"
  }
 },
 "nbformat": 4,
 "nbformat_minor": 2
}
